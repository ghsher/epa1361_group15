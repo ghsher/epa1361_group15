{
 "cells": [
  {
   "attachments": {},
   "cell_type": "markdown",
   "id": "41e05c7f",
   "metadata": {},
   "source": [
    "# Scenario Discovery\n",
    "\n",
    "This notebook takes the output from our initial set of experiments to assess how the model's outcomes are affected by various levels of the model's uncertainties. It uses the patient rule-induction method (PRIM) to find a bounding subspace of the uncertainty space, effectively defining the \"subspace of concern\": a region of the uncertainty space that is likely to produce \"bad\" results, according to our client's goals.\n",
    "\n",
    "First, we will filter out some less-relevant results, and visually inspect those that remain for insight. Then, we will run the PRIM algorithm to discover such a subspace and analyse the meaning of its boundaries. Finally, we will save the subset of generated scenarios from the original experiments that fall within this subspace; this will be used in the [scenario diversiy scoring](open_exploration__scenario_diversity_scoring.py) file to select a diverse set of four such scenarios of concern under which we can search for optimal policies. "
   ]
  },
  {
   "attachments": {},
   "cell_type": "markdown",
   "id": "8e5a6b38-903e-46a7-b46a-d2f9607f763c",
   "metadata": {},
   "source": [
    "-------------------\n",
    "## 0. Imports and Setup"
   ]
  },
  {
   "cell_type": "code",
   "execution_count": 1,
   "id": "b6e114bd-aed3-47e4-a656-79d6c64faba4",
   "metadata": {},
   "outputs": [],
   "source": [
    "import numpy as np\n",
    "import pandas as pd\n",
    "import matplotlib.pyplot as plt\n",
    "import seaborn as sns\n",
    "\n",
    "from ema_workbench import load_results\n",
    "from ema_workbench.analysis import pairs_plotting, prim"
   ]
  },
  {
   "attachments": {},
   "cell_type": "markdown",
   "id": "48201e2e",
   "metadata": {},
   "source": [
    "We will use the results from our base case experiments, where we ran the base case (i.e. the status quo, no policy) under 100000 scenarios sampled by the ema_workbench's Latin Hypercube sampler."
   ]
  },
  {
   "cell_type": "code",
   "execution_count": 2,
   "id": "eff775ef-3db5-48bc-9b0c-4da03ecc6121",
   "metadata": {},
   "outputs": [],
   "source": [
    "input_filename = './output/vulnerability_results__3933_scenarios'\n",
    "results = load_results(input_filename + '.tar.gz')"
   ]
  },
  {
   "cell_type": "code",
   "execution_count": 3,
   "id": "02847ba9-9c8c-421f-9224-4fadd4eb0c2c",
   "metadata": {},
   "outputs": [
    {
     "data": {
      "text/plain": [
       "(15732, 53)"
      ]
     },
     "execution_count": 3,
     "metadata": {},
     "output_type": "execute_result"
    }
   ],
   "source": [
    "experiments, outcomes = results\n",
    "experiments.shape"
   ]
  },
  {
   "cell_type": "code",
   "execution_count": 4,
   "id": "4cfd5435",
   "metadata": {},
   "outputs": [
    {
     "name": "stdout",
     "output_type": "stream",
     "text": [
      "3933\n",
      "3933\n",
      "3933\n",
      "3933\n"
     ]
    }
   ],
   "source": [
    "for pol in np.unique(experiments.policy):\n",
    "    print(experiments[experiments.policy == pol].shape[0])"
   ]
  },
  {
   "cell_type": "code",
   "execution_count": 5,
   "id": "a877f628",
   "metadata": {},
   "outputs": [
    {
     "data": {
      "text/html": [
       "<div>\n",
       "<style scoped>\n",
       "    .dataframe tbody tr th:only-of-type {\n",
       "        vertical-align: middle;\n",
       "    }\n",
       "\n",
       "    .dataframe tbody tr th {\n",
       "        vertical-align: top;\n",
       "    }\n",
       "\n",
       "    .dataframe thead th {\n",
       "        text-align: right;\n",
       "    }\n",
       "</style>\n",
       "<table border=\"1\" class=\"dataframe\">\n",
       "  <thead>\n",
       "    <tr style=\"text-align: right;\">\n",
       "      <th></th>\n",
       "      <th>A1_Bmax</th>\n",
       "      <th>A1_pfail</th>\n",
       "      <th>A1_Brate</th>\n",
       "      <th>A2_Bmax</th>\n",
       "      <th>A2_pfail</th>\n",
       "      <th>A2_Brate</th>\n",
       "      <th>A3_Bmax</th>\n",
       "      <th>A3_pfail</th>\n",
       "      <th>A3_Brate</th>\n",
       "      <th>A4_Bmax</th>\n",
       "      <th>...</th>\n",
       "      <th>A3_DikeIncrease_t2</th>\n",
       "      <th>A4_DikeIncrease_t0</th>\n",
       "      <th>A4_DikeIncrease_t1</th>\n",
       "      <th>A4_DikeIncrease_t2</th>\n",
       "      <th>A5_DikeIncrease_t0</th>\n",
       "      <th>A5_DikeIncrease_t1</th>\n",
       "      <th>A5_DikeIncrease_t2</th>\n",
       "      <th>scenario</th>\n",
       "      <th>policy</th>\n",
       "      <th>model</th>\n",
       "    </tr>\n",
       "  </thead>\n",
       "  <tbody>\n",
       "    <tr>\n",
       "      <th>0</th>\n",
       "      <td>245.492589</td>\n",
       "      <td>0.730879</td>\n",
       "      <td>1.5</td>\n",
       "      <td>103.700541</td>\n",
       "      <td>0.811144</td>\n",
       "      <td>1.5</td>\n",
       "      <td>212.666805</td>\n",
       "      <td>0.966618</td>\n",
       "      <td>1.5</td>\n",
       "      <td>51.327441</td>\n",
       "      <td>...</td>\n",
       "      <td>0</td>\n",
       "      <td>10</td>\n",
       "      <td>7</td>\n",
       "      <td>0</td>\n",
       "      <td>5</td>\n",
       "      <td>0</td>\n",
       "      <td>0</td>\n",
       "      <td>0</td>\n",
       "      <td>s91325_p86</td>\n",
       "      <td>dikesnet</td>\n",
       "    </tr>\n",
       "    <tr>\n",
       "      <th>1</th>\n",
       "      <td>262.554875</td>\n",
       "      <td>0.969102</td>\n",
       "      <td>10.0</td>\n",
       "      <td>280.377067</td>\n",
       "      <td>0.526979</td>\n",
       "      <td>10.0</td>\n",
       "      <td>187.570341</td>\n",
       "      <td>0.696104</td>\n",
       "      <td>1.0</td>\n",
       "      <td>64.726114</td>\n",
       "      <td>...</td>\n",
       "      <td>0</td>\n",
       "      <td>10</td>\n",
       "      <td>7</td>\n",
       "      <td>0</td>\n",
       "      <td>5</td>\n",
       "      <td>0</td>\n",
       "      <td>0</td>\n",
       "      <td>1</td>\n",
       "      <td>s91325_p86</td>\n",
       "      <td>dikesnet</td>\n",
       "    </tr>\n",
       "    <tr>\n",
       "      <th>2</th>\n",
       "      <td>275.708351</td>\n",
       "      <td>0.572317</td>\n",
       "      <td>1.0</td>\n",
       "      <td>265.693511</td>\n",
       "      <td>0.420025</td>\n",
       "      <td>1.5</td>\n",
       "      <td>121.947334</td>\n",
       "      <td>0.759597</td>\n",
       "      <td>10.0</td>\n",
       "      <td>272.023678</td>\n",
       "      <td>...</td>\n",
       "      <td>0</td>\n",
       "      <td>10</td>\n",
       "      <td>7</td>\n",
       "      <td>0</td>\n",
       "      <td>5</td>\n",
       "      <td>0</td>\n",
       "      <td>0</td>\n",
       "      <td>2</td>\n",
       "      <td>s91325_p86</td>\n",
       "      <td>dikesnet</td>\n",
       "    </tr>\n",
       "    <tr>\n",
       "      <th>3</th>\n",
       "      <td>62.466739</td>\n",
       "      <td>0.880597</td>\n",
       "      <td>1.5</td>\n",
       "      <td>136.376759</td>\n",
       "      <td>0.461343</td>\n",
       "      <td>1.5</td>\n",
       "      <td>142.623248</td>\n",
       "      <td>0.675062</td>\n",
       "      <td>10.0</td>\n",
       "      <td>203.202055</td>\n",
       "      <td>...</td>\n",
       "      <td>0</td>\n",
       "      <td>10</td>\n",
       "      <td>7</td>\n",
       "      <td>0</td>\n",
       "      <td>5</td>\n",
       "      <td>0</td>\n",
       "      <td>0</td>\n",
       "      <td>3</td>\n",
       "      <td>s91325_p86</td>\n",
       "      <td>dikesnet</td>\n",
       "    </tr>\n",
       "    <tr>\n",
       "      <th>4</th>\n",
       "      <td>262.062862</td>\n",
       "      <td>0.563094</td>\n",
       "      <td>10.0</td>\n",
       "      <td>193.450856</td>\n",
       "      <td>0.674911</td>\n",
       "      <td>10.0</td>\n",
       "      <td>273.473465</td>\n",
       "      <td>0.496738</td>\n",
       "      <td>1.5</td>\n",
       "      <td>291.804449</td>\n",
       "      <td>...</td>\n",
       "      <td>0</td>\n",
       "      <td>10</td>\n",
       "      <td>7</td>\n",
       "      <td>0</td>\n",
       "      <td>5</td>\n",
       "      <td>0</td>\n",
       "      <td>0</td>\n",
       "      <td>4</td>\n",
       "      <td>s91325_p86</td>\n",
       "      <td>dikesnet</td>\n",
       "    </tr>\n",
       "  </tbody>\n",
       "</table>\n",
       "<p>5 rows × 53 columns</p>\n",
       "</div>"
      ],
      "text/plain": [
       "      A1_Bmax  A1_pfail A1_Brate     A2_Bmax  A2_pfail A2_Brate     A3_Bmax  \\\n",
       "0  245.492589  0.730879      1.5  103.700541  0.811144      1.5  212.666805   \n",
       "1  262.554875  0.969102     10.0  280.377067  0.526979     10.0  187.570341   \n",
       "2  275.708351  0.572317      1.0  265.693511  0.420025      1.5  121.947334   \n",
       "3   62.466739  0.880597      1.5  136.376759  0.461343      1.5  142.623248   \n",
       "4  262.062862  0.563094     10.0  193.450856  0.674911     10.0  273.473465   \n",
       "\n",
       "   A3_pfail A3_Brate     A4_Bmax  ...  A3_DikeIncrease_t2 A4_DikeIncrease_t0  \\\n",
       "0  0.966618      1.5   51.327441  ...                   0                 10   \n",
       "1  0.696104      1.0   64.726114  ...                   0                 10   \n",
       "2  0.759597     10.0  272.023678  ...                   0                 10   \n",
       "3  0.675062     10.0  203.202055  ...                   0                 10   \n",
       "4  0.496738      1.5  291.804449  ...                   0                 10   \n",
       "\n",
       "   A4_DikeIncrease_t1  A4_DikeIncrease_t2 A5_DikeIncrease_t0  \\\n",
       "0                   7                   0                  5   \n",
       "1                   7                   0                  5   \n",
       "2                   7                   0                  5   \n",
       "3                   7                   0                  5   \n",
       "4                   7                   0                  5   \n",
       "\n",
       "  A5_DikeIncrease_t1 A5_DikeIncrease_t2 scenario      policy     model  \n",
       "0                  0                  0        0  s91325_p86  dikesnet  \n",
       "1                  0                  0        1  s91325_p86  dikesnet  \n",
       "2                  0                  0        2  s91325_p86  dikesnet  \n",
       "3                  0                  0        3  s91325_p86  dikesnet  \n",
       "4                  0                  0        4  s91325_p86  dikesnet  \n",
       "\n",
       "[5 rows x 53 columns]"
      ]
     },
     "execution_count": 5,
     "metadata": {},
     "output_type": "execute_result"
    }
   ],
   "source": [
    "experiments.head()"
   ]
  },
  {
   "attachments": {},
   "cell_type": "markdown",
   "id": "3ae9b9da",
   "metadata": {},
   "source": [
    "---------------------------------------\n",
    "\n",
    "## 1. Visual Analysis\n",
    "\n",
    "Before running PRIM, we can gain some insights into the how the scenarios we ran ranged in our outcome space. Since PRIM uses a binary classification of experiments based on outcomes, understanding what contributes to an experiment resulting in a \"bad case\" is an important part of this process.\n",
    "\n",
    "In our case, \"A4_Expected_Annual_Damage\" is the outcome of maximum interest. It is the more concrete of the two metrics affect our Client's region. We will study the distributions of our results across all 5 scenarios of interest, and in this process we will identify and store the performance threshold by which we will classify experiments as failures or successes for PRIM."
   ]
  },
  {
   "cell_type": "code",
   "execution_count": 7,
   "id": "919f033e-0cfc-44f5-a20d-f3c5c04739b0",
   "metadata": {},
   "outputs": [],
   "source": [
    "outcomes_of_interest = ['A4_Expected_Annual_Damage', 'A4_Expected_Number_of_Deaths',\n",
    "                        'Total_Expected_Annual_Damage', 'Total_Expected_Number_of_Deaths']\n",
    "ooi = outcomes_of_interest[0]"
   ]
  },
  {
   "cell_type": "code",
   "execution_count": 10,
   "id": "8631e9e2",
   "metadata": {},
   "outputs": [],
   "source": [
    "sns.set_style('darkgrid')"
   ]
  },
  {
   "cell_type": "code",
   "execution_count": 11,
   "id": "19c42a40-e778-4cb4-8ec1-697ad07a23d6",
   "metadata": {},
   "outputs": [
    {
     "data": {
      "image/png": "[encoded data removed]",
      "text/plain": [
       "<Figure size 1200x800 with 4 Axes>"
      ]
     },
     "metadata": {},
     "output_type": "display_data"
    }
   ],
   "source": [
    "N = experiments.shape[0]\n",
    "performance_threshold = None\n",
    "\n",
    "fig, axs = plt.subplots(2, 2, figsize=(12, 8))\n",
    "for col, ax in zip(outcomes_of_interest, axs.ravel()):\n",
    "    # Build data for plotting\n",
    "    df = pd.DataFrame()\n",
    "    df[col] = outcomes[col]\n",
    "    df['policy'] = experiments['policy']\n",
    "    df = df.sort_values(by=col, ascending=True)\n",
    "    df['y'] = np.arange(N)/N\n",
    "    df = df.reset_index()\n",
    "    \n",
    "    # Plot\n",
    "    sns.scatterplot(data=df, x=col, y='y', hue='policy',\n",
    "                    legend=False, size=1, linewidth=0,\n",
    "                    alpha=0.6, palette='tab10', ax=ax)\n",
    "\n",
    "    # Plot line at 75th percentile\n",
    "    median = int(N*0.75)\n",
    "    ax.axhline(median/N, color='k', alpha=0.1, ls='--')\n",
    "    ax.axvline(df[col][median], label=str(df[col][median]),\n",
    "               color='r', alpha=0.4)\n",
    "    \n",
    "    # Label line with 75th percentile value\n",
    "    annotation_point = int(N*0.61)/N # tested to line up with a gridline\n",
    "    if col.split('_')[-1] == 'Deaths':\n",
    "        ax.annotate(text=f\"75th percentile:\\n{df[col][median]:.5f}\", \n",
    "                    xy=(df[col][median], annotation_point),\n",
    "                    xytext=(3, 0), textcoords='offset pixels')\n",
    "    else:\n",
    "        ax.annotate(text=f\"75th percentile:\\n{df[col][median]:.0f}\", \n",
    "                    xy=(df[col][median], annotation_point),\n",
    "                    xytext=(3, 0), textcoords='offset pixels')\n",
    "    \n",
    "    # Save performance threshold (75th percentile of outcome of interest)\n",
    "    if (col == ooi):\n",
    "        performance_threshold = df[col][median]\n",
    "\n",
    "    # Set up graph\n",
    "    sns.despine(ax=ax)\n",
    "    col_name = ' '.join(col.split('_'))\n",
    "    ax.set(xlabel=col_name, ylabel=None, ylim=[0, 1.125])\n",
    "\n",
    "plt.suptitle(f'Cumulative Distribution Functions of Key Outcomes',\n",
    "             fontsize=18, y=0.92)\n",
    "plt.savefig(f'img/vulnerability__CDFs.png')\n",
    "plt.show()"
   ]
  },
  {
   "attachments": {},
   "cell_type": "markdown",
   "id": "3f902203",
   "metadata": {},
   "source": [
    "These graphs confirm what we conjectured based on the pairplots: though with some exceptions, these outcome values are generally exponential distributions, with the majority of the results being condensed at the lower values and a few results being spread across a long tail of extreme values. This further corroborates our guess that it takes the confluence of _multiple_ \"bad\" uncertainties to create a scenario of extreme \"bad\" outcome; if there were just one or two key, dominant uncertainties, since each gets sampled from a uniform distribution, these CDFs might look more linear.\n",
    "\n",
    "It is of note that the \"Total\" outcomes are somewhat more sharply exponential than the Dike Ring 4 outcomes (in these plots, you can see this as the 90th percentile point being further to the left). "
   ]
  },
  {
   "attachments": {},
   "cell_type": "markdown",
   "id": "5c69529a-a2da-4f70-86ad-9e38a1d52a25",
   "metadata": {},
   "source": [
    "-----------------------------------\n",
    "\n",
    "## 2. Scenario Discovery -- Subspace Discovery with PRIM\n",
    "\n",
    "We now move to the more interesting analysis of these results. We can use PRIM, described in the introduction of this notebook, to identify a subspace in the uncertainty space that could be adequately described as a \"region of concern,\" i.e., limits on the uncertainty boundaries where we expect a scenario that falls within those limits to result in a bad outcome. We define a \"bad outcome\" as one that fails according to the performance threshold defined above: equal to or worse than the 90th percentile 'A4 Expected Annual Damage' result from the filtered subset of the 100,000 scenario run.\n",
    "\n",
    "First, we will set up the PRIM algorithm. We'll give it our input data and tell it to apply the correct performance threshold to our outcomes. We'll also provide some simple parameters to the algorithm, defining the minimum acceptable density of the final box in PRIM's search and the minimum mass a box along its search can have. \n",
    "\n",
    "(NB: \"density\" here refers to the fraction of the cases in the box that are of concern. \"mass\" refers to the fraction of total cases that fall in the box)."
   ]
  },
  {
   "cell_type": "code",
   "execution_count": 12,
   "id": "ba5a9e76",
   "metadata": {},
   "outputs": [],
   "source": [
    "uncertainties = ['A0_ID_flood_wave_shape', 'A1_Bmax', 'A1_Brate', 'A1_pfail', 'A2_Bmax',\n",
    "                 'A2_Brate', 'A2_pfail', 'A3_Bmax', 'A3_Brate', 'A3_pfail', 'A4_Bmax',\n",
    "                 'A4_Brate', 'A4_pfail', 'A5_Bmax', 'A5_Brate', 'A5_pfail',\n",
    "                 'discount_rate_0', 'discount_rate_1', 'discount_rate_2',]"
   ]
  },
  {
   "cell_type": "code",
   "execution_count": 13,
   "id": "14d461dd",
   "metadata": {},
   "outputs": [],
   "source": [
    "prim_alg = prim.setup_prim(results,\n",
    "                           classify=lambda y: y[ooi] > performance_threshold,\n",
    "                           threshold=0.75,\n",
    "                           incl_unc=uncertainties,\n",
    "                           mass_min=0.01\n",
    "                           )\n",
    "\n",
    "# Run PRIM search algorithm once\n",
    "box1 = prim_alg.find_box()"
   ]
  },
  {
   "attachments": {},
   "cell_type": "markdown",
   "id": "b61c27a6",
   "metadata": {},
   "source": [
    "We can use the EMA Workbench to plot all the boxes found along PRIM's search, plotted by their _density_ (defined above) and _coverage_ (defined in contrast as the fraction of cases of concern that fall within the box). Both metrics are important in our case: we care about coverage because we want to be able to describe as many scenarios of concern as possible, while we care about density because we want to ensure we aren't casting too wide a net when defining this space to the point that we also include an excessive number of scenarios of no concern. Thus, we will draw lines at 75% for each of them, to see if PRIM can find a box that performs well in both regards."
   ]
  },
  {
   "cell_type": "code",
   "execution_count": 14,
   "id": "1c8a9834",
   "metadata": {},
   "outputs": [],
   "source": [
    "sns.set_style('whitegrid')"
   ]
  },
  {
   "cell_type": "code",
   "execution_count": 15,
   "id": "616cac59",
   "metadata": {},
   "outputs": [
    {
     "data": {
      "image/png": "[encoded data removed]",
      "text/plain": [
       "<Figure size 640x480 with 2 Axes>"
      ]
     },
     "metadata": {},
     "output_type": "display_data"
    }
   ],
   "source": [
    "box1.show_tradeoff()\n",
    "\n",
    "plt.hlines(y=[0.75], xmin=0, xmax=1.2, colors='k', alpha=0.5)\n",
    "plt.vlines(x=[0.75], ymin=0, ymax=1.2, colors='k', alpha=0.5)\n",
    "plt.title('Tradeoff of Coverage and Density in PRIM Search')\n",
    "plt.savefig('img/vulnerability__prim_trajectory.png')\n",
    "plt.show()"
   ]
  },
  {
   "attachments": {},
   "cell_type": "markdown",
   "id": "e0ea7da3",
   "metadata": {},
   "source": [
    "It looks like PRIM discovered one or two boxes that satisfy by having both a decent coverage and density. We can inspect numerically:"
   ]
  },
  {
   "cell_type": "code",
   "execution_count": 16,
   "id": "d09534f9",
   "metadata": {},
   "outputs": [
    {
     "data": {
      "text/html": [
       "<div>\n",
       "<style scoped>\n",
       "    .dataframe tbody tr th:only-of-type {\n",
       "        vertical-align: middle;\n",
       "    }\n",
       "\n",
       "    .dataframe tbody tr th {\n",
       "        vertical-align: top;\n",
       "    }\n",
       "\n",
       "    .dataframe thead th {\n",
       "        text-align: right;\n",
       "    }\n",
       "</style>\n",
       "<table border=\"1\" class=\"dataframe\">\n",
       "  <thead>\n",
       "    <tr style=\"text-align: right;\">\n",
       "      <th></th>\n",
       "      <th>coverage</th>\n",
       "      <th>density</th>\n",
       "      <th>id</th>\n",
       "      <th>mass</th>\n",
       "      <th>mean</th>\n",
       "      <th>res_dim</th>\n",
       "    </tr>\n",
       "  </thead>\n",
       "  <tbody>\n",
       "    <tr>\n",
       "      <th>28</th>\n",
       "      <td>0.870519</td>\n",
       "      <td>0.758890</td>\n",
       "      <td>28</td>\n",
       "      <td>0.235952</td>\n",
       "      <td>0.758890</td>\n",
       "      <td>1</td>\n",
       "    </tr>\n",
       "    <tr>\n",
       "      <th>29</th>\n",
       "      <td>0.852596</td>\n",
       "      <td>0.782917</td>\n",
       "      <td>29</td>\n",
       "      <td>0.224002</td>\n",
       "      <td>0.782917</td>\n",
       "      <td>1</td>\n",
       "    </tr>\n",
       "    <tr>\n",
       "      <th>30</th>\n",
       "      <td>0.834054</td>\n",
       "      <td>0.807117</td>\n",
       "      <td>30</td>\n",
       "      <td>0.212560</td>\n",
       "      <td>0.807117</td>\n",
       "      <td>1</td>\n",
       "    </tr>\n",
       "    <tr>\n",
       "      <th>31</th>\n",
       "      <td>0.813350</td>\n",
       "      <td>0.828715</td>\n",
       "      <td>31</td>\n",
       "      <td>0.201882</td>\n",
       "      <td>0.828715</td>\n",
       "      <td>1</td>\n",
       "    </tr>\n",
       "    <tr>\n",
       "      <th>32</th>\n",
       "      <td>0.784920</td>\n",
       "      <td>0.842175</td>\n",
       "      <td>32</td>\n",
       "      <td>0.191711</td>\n",
       "      <td>0.842175</td>\n",
       "      <td>1</td>\n",
       "    </tr>\n",
       "    <tr>\n",
       "      <th>33</th>\n",
       "      <td>0.764215</td>\n",
       "      <td>0.863478</td>\n",
       "      <td>33</td>\n",
       "      <td>0.182049</td>\n",
       "      <td>0.863478</td>\n",
       "      <td>1</td>\n",
       "    </tr>\n",
       "  </tbody>\n",
       "</table>\n",
       "</div>"
      ],
      "text/plain": [
       "    coverage   density  id      mass      mean  res_dim\n",
       "28  0.870519  0.758890  28  0.235952  0.758890        1\n",
       "29  0.852596  0.782917  29  0.224002  0.782917        1\n",
       "30  0.834054  0.807117  30  0.212560  0.807117        1\n",
       "31  0.813350  0.828715  31  0.201882  0.828715        1\n",
       "32  0.784920  0.842175  32  0.191711  0.842175        1\n",
       "33  0.764215  0.863478  33  0.182049  0.863478        1"
      ]
     },
     "execution_count": 16,
     "metadata": {},
     "output_type": "execute_result"
    }
   ],
   "source": [
    "candidates = box1.peeling_trajectory\n",
    "candidates = candidates[(candidates.coverage > 0.75)\n",
    "                         & (candidates.density > 0.75)]\n",
    "candidates"
   ]
  },
  {
   "attachments": {},
   "cell_type": "markdown",
   "id": "89010744",
   "metadata": {},
   "source": [
    "Indeed, there are two candidate boxes that beat 75% in both metrics. Both restrict the uncertainty space in 4 dimensions (likely the same 4 dimensions), sso we will choose **the one with higher density**. As described previously, once coverage is satisfied (our goal was 75%), density is important to ensure that we limit false positives."
   ]
  },
  {
   "cell_type": "code",
   "execution_count": 17,
   "id": "432f3c28",
   "metadata": {},
   "outputs": [
    {
     "data": {
      "text/plain": [
       "33"
      ]
     },
     "execution_count": 17,
     "metadata": {},
     "output_type": "execute_result"
    }
   ],
   "source": [
    "best_box = candidates[candidates.density\n",
    "                      == candidates.density.max()]\n",
    "best_box_idx = int(best_box.index[0])\n",
    "\n",
    "box1.select(best_box_idx)\n",
    "best_box_idx"
   ]
  },
  {
   "attachments": {},
   "cell_type": "markdown",
   "id": "d5f12fbb",
   "metadata": {},
   "source": [
    "In the next cell, we will look at how this bounding box restricts the uncertainty space. We can learn some information about the model and the case by studying _which_ and _by how much_ these dimensions are restricted."
   ]
  },
  {
   "cell_type": "code",
   "execution_count": 18,
   "id": "6a41aafb",
   "metadata": {},
   "outputs": [],
   "source": [
    "sns.set_style('whitegrid')"
   ]
  },
  {
   "cell_type": "code",
   "execution_count": 19,
   "id": "dc16b01f",
   "metadata": {},
   "outputs": [
    {
     "data": {
      "image/png": "[encoded data removed]",
      "text/plain": [
       "<Figure size 640x480 with 1 Axes>"
      ]
     },
     "metadata": {},
     "output_type": "display_data"
    }
   ],
   "source": [
    "box1.inspect(style=\"graph\", ticklabel_formatter='{}', boxlim_formatter='{:.2g}')\n",
    "plt.title('Definition of Uncertainty Subspace Discovered by PRIM')\n",
    "plt.savefig('img/vulnerability__prim_boundary.png')\n",
    "plt.show()"
   ]
  },
  {
   "attachments": {},
   "cell_type": "markdown",
   "id": "2a630ec6",
   "metadata": {},
   "source": [
    "Naturally, the most important uncertainties are the failure probabilities in our dike and in all upstream dike rings. The `pfail` variables actually predict likelihood of withstanding failure: that is, `A4_pfail=1` means that the dikes in Dike Ring 4 will never fail. \n",
    "\n",
    "Since we defined our PRIM search to seek a subset of the uncertainty space that leads to bad outcomes in Dike Ring 4 specifically, we have found a box that says such cases happen when _(a) dikes in Dike Ring 4 are very likely to fail_ and _(b) dikes upstream of us are relatively stronger and less likely to fail_ (if those dikes don't fail in the event of an extreme flooding event, it means all the additional water flow stays in the IJssel River until dikes finally break in Dike Ring 4; at that point, elevated water levels translate into more damage here).\n",
    "\n",
    "We can plot all 40,000 scenarios in 2D slices of the uncertainty space, where the dimensions studied are the 4 `pfail`s that contribute to our PRIM box. Since it is hard to imagine a four-dimensional bounding box, let alone a 19-dimensional uncertainty space in the first place, this will help gain an intuitive understanding of the space of concern."
   ]
  },
  {
   "cell_type": "code",
   "execution_count": 20,
   "id": "d34a2601",
   "metadata": {},
   "outputs": [],
   "source": [
    "sns.set_style('white')"
   ]
  },
  {
   "cell_type": "code",
   "execution_count": 21,
   "id": "4ffd6424-05ed-4b68-ba35-7c7439bc38b9",
   "metadata": {},
   "outputs": [
    {
     "data": {
      "image/png": "[encoded data removed]",
      "text/plain": [
       "<Figure size 269.361x250 with 2 Axes>"
      ]
     },
     "metadata": {},
     "output_type": "display_data"
    }
   ],
   "source": [
    "box1.show_pairs_scatter()\n",
    "# show_pairs_scatter doesn't give enough vertical space to show suptitle\n",
    "# plt.suptitle('Classified Scenario Runs by Key Uncertainty Values'\n",
    "#              'with PRIM Box Superimposed', y=0.97)\n",
    "plt.savefig('img/vulnerability__prim_pairs_scatter.png')\n",
    "plt.show()"
   ]
  },
  {
   "attachments": {},
   "cell_type": "markdown",
   "id": "ff4ca271",
   "metadata": {},
   "source": [
    "Here, it becomes clearer: scenarios of concern occur when our dike rings are _very_ likely to fail (the scenarios appear compressed against the wall of `A4_pfail=0`), and all the upstream dikes are anything _but_ very likely to fail. Interestingly, failure in Dike Ring 1 is the most restricted uncertainty after our own, likely because it is the most upstream. However, as indicated by the KDEs along the diagonal, there are some scenarios of concern that fall along all values of `A1_pfail`, even those outside our subspace. We do lose some exactlness of these scenarios of concern to have a convenient description in terms of the subspace.\n",
    "\n",
    "We can capture the bounding box that defines our subspace in the uncertainty space as follows:"
   ]
  },
  {
   "cell_type": "code",
   "execution_count": 22,
   "id": "bb1af463",
   "metadata": {},
   "outputs": [
    {
     "data": {
      "text/html": [
       "<div>\n",
       "<style scoped>\n",
       "    .dataframe tbody tr th:only-of-type {\n",
       "        vertical-align: middle;\n",
       "    }\n",
       "\n",
       "    .dataframe tbody tr th {\n",
       "        vertical-align: top;\n",
       "    }\n",
       "\n",
       "    .dataframe thead th {\n",
       "        text-align: right;\n",
       "    }\n",
       "</style>\n",
       "<table border=\"1\" class=\"dataframe\">\n",
       "  <thead>\n",
       "    <tr style=\"text-align: right;\">\n",
       "      <th></th>\n",
       "      <th>A1_Bmax</th>\n",
       "      <th>A1_pfail</th>\n",
       "      <th>A1_Brate</th>\n",
       "      <th>A2_Bmax</th>\n",
       "      <th>A2_pfail</th>\n",
       "      <th>A2_Brate</th>\n",
       "      <th>A3_Bmax</th>\n",
       "      <th>A3_pfail</th>\n",
       "      <th>A3_Brate</th>\n",
       "      <th>A4_Bmax</th>\n",
       "      <th>A4_pfail</th>\n",
       "      <th>A4_Brate</th>\n",
       "      <th>A5_Bmax</th>\n",
       "      <th>A5_pfail</th>\n",
       "      <th>A5_Brate</th>\n",
       "      <th>discount_rate_0</th>\n",
       "      <th>discount_rate_1</th>\n",
       "      <th>discount_rate_2</th>\n",
       "      <th>A0_ID_flood_wave_shape</th>\n",
       "    </tr>\n",
       "  </thead>\n",
       "  <tbody>\n",
       "    <tr>\n",
       "      <th>0</th>\n",
       "      <td>30.079064</td>\n",
       "      <td>0.369259</td>\n",
       "      <td>{1.5, 10.0, 1.0}</td>\n",
       "      <td>30.048476</td>\n",
       "      <td>0.123509</td>\n",
       "      <td>{1.5, 10.0, 1.0}</td>\n",
       "      <td>30.007795</td>\n",
       "      <td>0.247171</td>\n",
       "      <td>{1.5, 10.0, 1.0}</td>\n",
       "      <td>30.063494</td>\n",
       "      <td>0.000037</td>\n",
       "      <td>{1.5, 10.0, 1.0}</td>\n",
       "      <td>30.188075</td>\n",
       "      <td>0.000166</td>\n",
       "      <td>{1.0, 10.0, 1.5}</td>\n",
       "      <td>{1.5, 2.5, 3.5, 4.5}</td>\n",
       "      <td>{1.5, 2.5, 3.5, 4.5}</td>\n",
       "      <td>{1.5, 2.5, 3.5, 4.5}</td>\n",
       "      <td>0</td>\n",
       "    </tr>\n",
       "    <tr>\n",
       "      <th>1</th>\n",
       "      <td>349.970645</td>\n",
       "      <td>0.999886</td>\n",
       "      <td>{1.5, 10.0, 1.0}</td>\n",
       "      <td>349.948428</td>\n",
       "      <td>0.999964</td>\n",
       "      <td>{1.5, 10.0, 1.0}</td>\n",
       "      <td>349.975190</td>\n",
       "      <td>0.999860</td>\n",
       "      <td>{1.5, 10.0, 1.0}</td>\n",
       "      <td>349.963706</td>\n",
       "      <td>0.017657</td>\n",
       "      <td>{1.5, 10.0, 1.0}</td>\n",
       "      <td>349.980059</td>\n",
       "      <td>0.999943</td>\n",
       "      <td>{1.0, 10.0, 1.5}</td>\n",
       "      <td>{1.5, 2.5, 3.5, 4.5}</td>\n",
       "      <td>{1.5, 2.5, 3.5, 4.5}</td>\n",
       "      <td>{1.5, 2.5, 3.5, 4.5}</td>\n",
       "      <td>132</td>\n",
       "    </tr>\n",
       "  </tbody>\n",
       "</table>\n",
       "</div>"
      ],
      "text/plain": [
       "      A1_Bmax  A1_pfail          A1_Brate     A2_Bmax  A2_pfail  \\\n",
       "0   30.079064  0.369259  {1.5, 10.0, 1.0}   30.048476  0.123509   \n",
       "1  349.970645  0.999886  {1.5, 10.0, 1.0}  349.948428  0.999964   \n",
       "\n",
       "           A2_Brate     A3_Bmax  A3_pfail          A3_Brate     A4_Bmax  \\\n",
       "0  {1.5, 10.0, 1.0}   30.007795  0.247171  {1.5, 10.0, 1.0}   30.063494   \n",
       "1  {1.5, 10.0, 1.0}  349.975190  0.999860  {1.5, 10.0, 1.0}  349.963706   \n",
       "\n",
       "   A4_pfail          A4_Brate     A5_Bmax  A5_pfail          A5_Brate  \\\n",
       "0  0.000037  {1.5, 10.0, 1.0}   30.188075  0.000166  {1.0, 10.0, 1.5}   \n",
       "1  0.017657  {1.5, 10.0, 1.0}  349.980059  0.999943  {1.0, 10.0, 1.5}   \n",
       "\n",
       "        discount_rate_0       discount_rate_1       discount_rate_2  \\\n",
       "0  {1.5, 2.5, 3.5, 4.5}  {1.5, 2.5, 3.5, 4.5}  {1.5, 2.5, 3.5, 4.5}   \n",
       "1  {1.5, 2.5, 3.5, 4.5}  {1.5, 2.5, 3.5, 4.5}  {1.5, 2.5, 3.5, 4.5}   \n",
       "\n",
       "   A0_ID_flood_wave_shape  \n",
       "0                       0  \n",
       "1                     132  "
      ]
     },
     "execution_count": 22,
     "metadata": {},
     "output_type": "execute_result"
    }
   ],
   "source": [
    "limits = box1.box_lims[best_box_idx]\n",
    "limits"
   ]
  },
  {
   "attachments": {},
   "cell_type": "markdown",
   "id": "f1430367",
   "metadata": {},
   "source": [
    "One could do further iterations of the PRIM algorithm using the selected box as a starting point. We played around with this process, but it didn't produce any more meaningful results than the first round of space peeling."
   ]
  },
  {
   "attachments": {},
   "cell_type": "markdown",
   "id": "6bd15156",
   "metadata": {},
   "source": [
    "--------------------------\n",
    "\n",
    "## 3. Filter, Sort, and Save Outputs\n",
    "\n",
    "Having now defined a \"region of concern\" within the uncertainty space, we can select the subset of scenarios from our original design of experiments that falls within this space. Notably, this is different than selecting the subset of scenarios that fails our performance threshold; this will include some false positives (cases of lesser concern that fall in the box) and some false negatives (cases of high concern that are not included in the box). However, this is done because we can use this same bounding box later on to constrict the uncertainty space without even needing to know the results of the initial experiments. Since we will move forward with this PRIM box, we will filter the scenario list with it now."
   ]
  },
  {
   "cell_type": "code",
   "execution_count": 23,
   "id": "a3901ed7",
   "metadata": {},
   "outputs": [
    {
     "name": "stdout",
     "output_type": "stream",
     "text": [
      "(15732, 67)\n"
     ]
    },
    {
     "data": {
      "text/html": [
       "<div>\n",
       "<style scoped>\n",
       "    .dataframe tbody tr th:only-of-type {\n",
       "        vertical-align: middle;\n",
       "    }\n",
       "\n",
       "    .dataframe tbody tr th {\n",
       "        vertical-align: top;\n",
       "    }\n",
       "\n",
       "    .dataframe thead th {\n",
       "        text-align: right;\n",
       "    }\n",
       "</style>\n",
       "<table border=\"1\" class=\"dataframe\">\n",
       "  <thead>\n",
       "    <tr style=\"text-align: right;\">\n",
       "      <th></th>\n",
       "      <th>A1_Bmax</th>\n",
       "      <th>A1_pfail</th>\n",
       "      <th>A1_Brate</th>\n",
       "      <th>A2_Bmax</th>\n",
       "      <th>A2_pfail</th>\n",
       "      <th>A2_Brate</th>\n",
       "      <th>A3_Bmax</th>\n",
       "      <th>A3_pfail</th>\n",
       "      <th>A3_Brate</th>\n",
       "      <th>A4_Bmax</th>\n",
       "      <th>...</th>\n",
       "      <th>A3_Expected_Annual_Damage</th>\n",
       "      <th>A3_Expected_Number_of_Deaths</th>\n",
       "      <th>A4_Expected_Annual_Damage</th>\n",
       "      <th>A4_Expected_Number_of_Deaths</th>\n",
       "      <th>A5_Expected_Annual_Damage</th>\n",
       "      <th>A5_Expected_Number_of_Deaths</th>\n",
       "      <th>Total_Infrastructure_Costs</th>\n",
       "      <th>Total_Expected_Annual_Damage</th>\n",
       "      <th>Total_Expected_Number_of_Deaths</th>\n",
       "      <th>Within Limit</th>\n",
       "    </tr>\n",
       "  </thead>\n",
       "  <tbody>\n",
       "    <tr>\n",
       "      <th>0</th>\n",
       "      <td>245.492589</td>\n",
       "      <td>0.730879</td>\n",
       "      <td>1.5</td>\n",
       "      <td>103.700541</td>\n",
       "      <td>0.811144</td>\n",
       "      <td>1.5</td>\n",
       "      <td>212.666805</td>\n",
       "      <td>0.966618</td>\n",
       "      <td>1.5</td>\n",
       "      <td>51.327441</td>\n",
       "      <td>...</td>\n",
       "      <td>0.0</td>\n",
       "      <td>0.0</td>\n",
       "      <td>0.000000</td>\n",
       "      <td>0.000000</td>\n",
       "      <td>0.000000e+00</td>\n",
       "      <td>0.000000</td>\n",
       "      <td>3.171744e+08</td>\n",
       "      <td>0.000000e+00</td>\n",
       "      <td>0.000000</td>\n",
       "      <td>True</td>\n",
       "    </tr>\n",
       "    <tr>\n",
       "      <th>1</th>\n",
       "      <td>262.554875</td>\n",
       "      <td>0.969102</td>\n",
       "      <td>10.0</td>\n",
       "      <td>280.377067</td>\n",
       "      <td>0.526979</td>\n",
       "      <td>10.0</td>\n",
       "      <td>187.570341</td>\n",
       "      <td>0.696104</td>\n",
       "      <td>1.0</td>\n",
       "      <td>64.726114</td>\n",
       "      <td>...</td>\n",
       "      <td>0.0</td>\n",
       "      <td>0.0</td>\n",
       "      <td>285240.387070</td>\n",
       "      <td>0.000016</td>\n",
       "      <td>8.062438e+06</td>\n",
       "      <td>0.000684</td>\n",
       "      <td>3.171744e+08</td>\n",
       "      <td>8.347678e+06</td>\n",
       "      <td>0.000700</td>\n",
       "      <td>True</td>\n",
       "    </tr>\n",
       "    <tr>\n",
       "      <th>2</th>\n",
       "      <td>275.708351</td>\n",
       "      <td>0.572317</td>\n",
       "      <td>1.0</td>\n",
       "      <td>265.693511</td>\n",
       "      <td>0.420025</td>\n",
       "      <td>1.5</td>\n",
       "      <td>121.947334</td>\n",
       "      <td>0.759597</td>\n",
       "      <td>10.0</td>\n",
       "      <td>272.023678</td>\n",
       "      <td>...</td>\n",
       "      <td>0.0</td>\n",
       "      <td>0.0</td>\n",
       "      <td>280561.829239</td>\n",
       "      <td>0.000016</td>\n",
       "      <td>4.829620e+07</td>\n",
       "      <td>0.004058</td>\n",
       "      <td>3.171744e+08</td>\n",
       "      <td>4.857676e+07</td>\n",
       "      <td>0.004074</td>\n",
       "      <td>True</td>\n",
       "    </tr>\n",
       "  </tbody>\n",
       "</table>\n",
       "<p>3 rows × 67 columns</p>\n",
       "</div>"
      ],
      "text/plain": [
       "      A1_Bmax  A1_pfail A1_Brate     A2_Bmax  A2_pfail A2_Brate     A3_Bmax  \\\n",
       "0  245.492589  0.730879      1.5  103.700541  0.811144      1.5  212.666805   \n",
       "1  262.554875  0.969102     10.0  280.377067  0.526979     10.0  187.570341   \n",
       "2  275.708351  0.572317      1.0  265.693511  0.420025      1.5  121.947334   \n",
       "\n",
       "   A3_pfail A3_Brate     A4_Bmax  ...  A3_Expected_Annual_Damage  \\\n",
       "0  0.966618      1.5   51.327441  ...                        0.0   \n",
       "1  0.696104      1.0   64.726114  ...                        0.0   \n",
       "2  0.759597     10.0  272.023678  ...                        0.0   \n",
       "\n",
       "  A3_Expected_Number_of_Deaths  A4_Expected_Annual_Damage  \\\n",
       "0                          0.0                   0.000000   \n",
       "1                          0.0              285240.387070   \n",
       "2                          0.0              280561.829239   \n",
       "\n",
       "   A4_Expected_Number_of_Deaths A5_Expected_Annual_Damage  \\\n",
       "0                      0.000000              0.000000e+00   \n",
       "1                      0.000016              8.062438e+06   \n",
       "2                      0.000016              4.829620e+07   \n",
       "\n",
       "  A5_Expected_Number_of_Deaths Total_Infrastructure_Costs  \\\n",
       "0                     0.000000               3.171744e+08   \n",
       "1                     0.000684               3.171744e+08   \n",
       "2                     0.004058               3.171744e+08   \n",
       "\n",
       "  Total_Expected_Annual_Damage  Total_Expected_Number_of_Deaths  Within Limit  \n",
       "0                 0.000000e+00                         0.000000          True  \n",
       "1                 8.347678e+06                         0.000700          True  \n",
       "2                 4.857676e+07                         0.004074          True  \n",
       "\n",
       "[3 rows x 67 columns]"
      ]
     },
     "execution_count": 23,
     "metadata": {},
     "output_type": "execute_result"
    }
   ],
   "source": [
    "# Create a new dataframe of experiments & their outcomes\n",
    "# and track whether they fall outside the PRIM box boundary\n",
    "combined_df = experiments.copy()\n",
    "for key in outcomes:\n",
    "    combined_df[key] = outcomes[key]\n",
    "\n",
    "combined_df['Within Limit'] = True\n",
    "\n",
    "print(combined_df.shape)\n",
    "combined_df.head(3)"
   ]
  },
  {
   "cell_type": "code",
   "execution_count": 24,
   "id": "13f48965",
   "metadata": {},
   "outputs": [],
   "source": [
    "# Apply PRIM constraint in each dimension\n",
    "for idx, row in combined_df.iterrows():\n",
    "    for unc in limits:\n",
    "        if (type(limits.loc[0, unc]) == set):\n",
    "            if row[unc] not in limits.loc[0, unc]:\n",
    "                combined_df.at[idx, 'Within Limit'] = False\n",
    "        else:\n",
    "            if row[unc] < limits.loc[0, unc] or row[unc] > limits.loc[1, unc]:\n",
    "                combined_df.at[idx, 'Within Limit'] = False"
   ]
  },
  {
   "cell_type": "code",
   "execution_count": 25,
   "id": "8b95ee36",
   "metadata": {},
   "outputs": [
    {
     "name": "stdout",
     "output_type": "stream",
     "text": [
      "2864 scenarios remain in the PRIM box.\n"
     ]
    }
   ],
   "source": [
    "# Use new column to filter the rows, then drop this column\n",
    "combined_df = combined_df[combined_df['Within Limit']]\n",
    "combined_df = combined_df.drop(['Within Limit'], axis=1)\n",
    "print(f'{combined_df.shape[0]} scenarios remain in the PRIM box.')"
   ]
  },
  {
   "attachments": {},
   "cell_type": "markdown",
   "id": "ec2a2917",
   "metadata": {},
   "source": [
    "We have filtered down to almost 4000 scenarios. This makes sense, as it is roughly 10% of the set we started with (the scenarios that produced any damage to A4 under the status quo). 4000 scenarios is quite a few, so the next step will be to select a diverse, representative set of 3-5 of these scenarios that we can carry forward and use in our policy search. The generation of candidate sets and the assessment of set diversity will be done in [open_exploration__scenario_diversity_scoring.py](open_exploration__scenario_diversity_scoring.py). To support this set generation and filtering, we will save the filtered, combined experiments and outcomes DataFrame in sorted order by outcome 'A4 Expected Annual Damage'."
   ]
  },
  {
   "cell_type": "code",
   "execution_count": 26,
   "id": "14f85508",
   "metadata": {},
   "outputs": [
    {
     "data": {
      "text/html": [
       "<div>\n",
       "<style scoped>\n",
       "    .dataframe tbody tr th:only-of-type {\n",
       "        vertical-align: middle;\n",
       "    }\n",
       "\n",
       "    .dataframe tbody tr th {\n",
       "        vertical-align: top;\n",
       "    }\n",
       "\n",
       "    .dataframe thead th {\n",
       "        text-align: right;\n",
       "    }\n",
       "</style>\n",
       "<table border=\"1\" class=\"dataframe\">\n",
       "  <thead>\n",
       "    <tr style=\"text-align: right;\">\n",
       "      <th></th>\n",
       "      <th>A1_Bmax</th>\n",
       "      <th>A1_pfail</th>\n",
       "      <th>A1_Brate</th>\n",
       "      <th>A2_Bmax</th>\n",
       "      <th>A2_pfail</th>\n",
       "      <th>A2_Brate</th>\n",
       "      <th>A3_Bmax</th>\n",
       "      <th>A3_pfail</th>\n",
       "      <th>A3_Brate</th>\n",
       "      <th>A4_Bmax</th>\n",
       "      <th>...</th>\n",
       "      <th>A2_Expected_Number_of_Deaths</th>\n",
       "      <th>A3_Expected_Annual_Damage</th>\n",
       "      <th>A3_Expected_Number_of_Deaths</th>\n",
       "      <th>A4_Expected_Annual_Damage</th>\n",
       "      <th>A4_Expected_Number_of_Deaths</th>\n",
       "      <th>A5_Expected_Annual_Damage</th>\n",
       "      <th>A5_Expected_Number_of_Deaths</th>\n",
       "      <th>Total_Infrastructure_Costs</th>\n",
       "      <th>Total_Expected_Annual_Damage</th>\n",
       "      <th>Total_Expected_Number_of_Deaths</th>\n",
       "    </tr>\n",
       "  </thead>\n",
       "  <tbody>\n",
       "    <tr>\n",
       "      <th>8374</th>\n",
       "      <td>130.939712</td>\n",
       "      <td>0.746688</td>\n",
       "      <td>1.0</td>\n",
       "      <td>254.050146</td>\n",
       "      <td>0.299472</td>\n",
       "      <td>1.0</td>\n",
       "      <td>81.734104</td>\n",
       "      <td>0.705162</td>\n",
       "      <td>1.0</td>\n",
       "      <td>126.542838</td>\n",
       "      <td>...</td>\n",
       "      <td>0.00000</td>\n",
       "      <td>3.586298e+06</td>\n",
       "      <td>0.000781</td>\n",
       "      <td>1.215047e+08</td>\n",
       "      <td>0.006472</td>\n",
       "      <td>0.000000e+00</td>\n",
       "      <td>0.000000</td>\n",
       "      <td>1.982227e+08</td>\n",
       "      <td>1.250910e+08</td>\n",
       "      <td>0.007253</td>\n",
       "    </tr>\n",
       "    <tr>\n",
       "      <th>12307</th>\n",
       "      <td>130.939712</td>\n",
       "      <td>0.746688</td>\n",
       "      <td>1.0</td>\n",
       "      <td>254.050146</td>\n",
       "      <td>0.299472</td>\n",
       "      <td>1.0</td>\n",
       "      <td>81.734104</td>\n",
       "      <td>0.705162</td>\n",
       "      <td>1.0</td>\n",
       "      <td>126.542838</td>\n",
       "      <td>...</td>\n",
       "      <td>0.00059</td>\n",
       "      <td>0.000000e+00</td>\n",
       "      <td>0.000000</td>\n",
       "      <td>1.214597e+08</td>\n",
       "      <td>0.006467</td>\n",
       "      <td>5.856854e+07</td>\n",
       "      <td>0.005999</td>\n",
       "      <td>1.686922e+08</td>\n",
       "      <td>1.851306e+08</td>\n",
       "      <td>0.013056</td>\n",
       "    </tr>\n",
       "    <tr>\n",
       "      <th>12200</th>\n",
       "      <td>65.974096</td>\n",
       "      <td>0.897180</td>\n",
       "      <td>10.0</td>\n",
       "      <td>60.535595</td>\n",
       "      <td>0.954783</td>\n",
       "      <td>1.0</td>\n",
       "      <td>169.459071</td>\n",
       "      <td>0.551625</td>\n",
       "      <td>10.0</td>\n",
       "      <td>260.615224</td>\n",
       "      <td>...</td>\n",
       "      <td>0.00000</td>\n",
       "      <td>3.472732e+06</td>\n",
       "      <td>0.000761</td>\n",
       "      <td>1.203532e+08</td>\n",
       "      <td>0.006534</td>\n",
       "      <td>0.000000e+00</td>\n",
       "      <td>0.000000</td>\n",
       "      <td>1.686922e+08</td>\n",
       "      <td>1.238260e+08</td>\n",
       "      <td>0.007294</td>\n",
       "    </tr>\n",
       "  </tbody>\n",
       "</table>\n",
       "<p>3 rows × 66 columns</p>\n",
       "</div>"
      ],
      "text/plain": [
       "          A1_Bmax  A1_pfail A1_Brate     A2_Bmax  A2_pfail A2_Brate  \\\n",
       "8374   130.939712  0.746688      1.0  254.050146  0.299472      1.0   \n",
       "12307  130.939712  0.746688      1.0  254.050146  0.299472      1.0   \n",
       "12200   65.974096  0.897180     10.0   60.535595  0.954783      1.0   \n",
       "\n",
       "          A3_Bmax  A3_pfail A3_Brate     A4_Bmax  ...  \\\n",
       "8374    81.734104  0.705162      1.0  126.542838  ...   \n",
       "12307   81.734104  0.705162      1.0  126.542838  ...   \n",
       "12200  169.459071  0.551625     10.0  260.615224  ...   \n",
       "\n",
       "       A2_Expected_Number_of_Deaths A3_Expected_Annual_Damage  \\\n",
       "8374                        0.00000              3.586298e+06   \n",
       "12307                       0.00059              0.000000e+00   \n",
       "12200                       0.00000              3.472732e+06   \n",
       "\n",
       "       A3_Expected_Number_of_Deaths  A4_Expected_Annual_Damage  \\\n",
       "8374                       0.000781               1.215047e+08   \n",
       "12307                      0.000000               1.214597e+08   \n",
       "12200                      0.000761               1.203532e+08   \n",
       "\n",
       "      A4_Expected_Number_of_Deaths A5_Expected_Annual_Damage  \\\n",
       "8374                      0.006472              0.000000e+00   \n",
       "12307                     0.006467              5.856854e+07   \n",
       "12200                     0.006534              0.000000e+00   \n",
       "\n",
       "      A5_Expected_Number_of_Deaths Total_Infrastructure_Costs  \\\n",
       "8374                      0.000000               1.982227e+08   \n",
       "12307                     0.005999               1.686922e+08   \n",
       "12200                     0.000000               1.686922e+08   \n",
       "\n",
       "       Total_Expected_Annual_Damage  Total_Expected_Number_of_Deaths  \n",
       "8374                   1.250910e+08                         0.007253  \n",
       "12307                  1.851306e+08                         0.013056  \n",
       "12200                  1.238260e+08                         0.007294  \n",
       "\n",
       "[3 rows x 66 columns]"
      ]
     },
     "execution_count": 26,
     "metadata": {},
     "output_type": "execute_result"
    }
   ],
   "source": [
    "combined_df = combined_df.sort_values(by=ooi, ascending=False)\n",
    "combined_df.head(3)"
   ]
  },
  {
   "cell_type": "code",
   "execution_count": 27,
   "id": "d837ca81",
   "metadata": {},
   "outputs": [],
   "source": [
    "output_filename = input_filename + '__prim_filtered.csv'\n",
    "combined_df.to_csv(output_filename, index=True)"
   ]
  }
 ],
 "metadata": {
  "kernelspec": {
   "display_name": "Python 3 (ipykernel)",
   "language": "python",
   "name": "python3"
  },
  "language_info": {
   "codemirror_mode": {
    "name": "ipython",
    "version": 3
   },
   "file_extension": ".py",
   "mimetype": "text/x-python",
   "name": "python",
   "nbconvert_exporter": "python",
   "pygments_lexer": "ipython3",
   "version": "3.11.3"
  }
 },
 "nbformat": 4,
 "nbformat_minor": 5
}
