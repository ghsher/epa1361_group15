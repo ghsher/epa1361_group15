{
 "cells": [
  {
   "cell_type": "code",
   "execution_count": 1,
   "id": "c9bd6392-f000-45a5-9d0a-af367e722d6c",
   "metadata": {},
   "outputs": [],
   "source": [
    "import numpy as np\n",
    "import scipy as sp\n",
    "import pandas as pd\n",
    "import matplotlib.pyplot as plt\n",
    "import seaborn as sns\n",
    "import networkx as nx\n",
    "\n",
    "from datetime import datetime\n",
    "\n",
    "from SALib.analyze import sobol\n",
    "from ema_workbench import Samplers\n",
    "from ema_workbench.em_framework.salib_samplers import get_SALib_problem"
   ]
  },
  {
   "cell_type": "markdown",
   "id": "ce8ca9c2-a2e1-46fa-8088-bc4cd5f82446",
   "metadata": {},
   "source": [
    "## fixed policy experiment part\n",
    "\n",
    "Since the global sensitivity analysis provides its own output the setup of the fixed_policy_experiment_generation is copied here instead of using the outpuy provided by that notebook."
   ]
  },
  {
   "cell_type": "code",
   "execution_count": 2,
   "id": "33a7eb41-1ca9-4bcc-8a23-35e29a5bca5f",
   "metadata": {},
   "outputs": [],
   "source": [
    "from ema_workbench import (\n",
    "    Model,\n",
    "    Policy,\n",
    "    ema_logging,\n",
    "    SequentialEvaluator,\n",
    "    MultiprocessingEvaluator,\n",
    ")\n",
    "from dike_model_function import DikeNetwork  # @UnresolvedImport\n",
    "from problem_formulation import get_model_for_problem_formulation, sum_over, sum_over_time"
   ]
  },
  {
   "cell_type": "code",
   "execution_count": 3,
   "id": "63927e82-4de0-4161-a8f8-580b4a4451f7",
   "metadata": {},
   "outputs": [],
   "source": [
    "ema_logging.log_to_stderr(ema_logging.INFO)\n",
    "\n",
    "# choose problem formulation number, between 0-7\n",
    "# each problem formulation has its own list of outcomes\n",
    "dike_model, planning_steps = get_model_for_problem_formulation(2)"
   ]
  },
  {
   "cell_type": "code",
   "execution_count": 4,
   "id": "ded18d3b-ca3a-42c9-9713-fe406df48872",
   "metadata": {},
   "outputs": [],
   "source": [
    "def get_do_nothing_dict():\n",
    "    return {l.name: 0 for l in dike_model.levers}\n",
    "\n",
    "policies = [\n",
    "    Policy(\n",
    "        \"policy 1\",\n",
    "        # Big RfR in most upstream location (based on the map in ring 1 (non-organic farming)) -\n",
    "        # our client would prefer this, as they don't care about non-organic farming and it should \n",
    "        # significantly decrease flooding of ring 4 (town Gorssel).\n",
    "        **dict(\n",
    "            get_do_nothing_dict(),\n",
    "            **{\"0_RfR 0\": 1}\n",
    "            # **{\"0_RfR 0\": 1, \"0_RfR 1\": 1, \"0_RfR 2\": 1, \"A.1_DikeIncrease 0\": 5} - \n",
    "            # this was original \"policy 1\" - since the course manual states: (for RfR \n",
    "            #\"Once activated, the project remains active.\", I think \"\"0_RfR 1\": 1, \"0_RfR 2\": 1\" \n",
    "            # are redundant - but we should evaluate this.\n",
    "        )\n",
    "    ),\n",
    "    Policy(\n",
    "        \"policy 2\",\n",
    "        # Second best alternative of RfR from ring 4 perspective. Some RfR made upstream, \n",
    "        # some downstream from them, but none on their area. We choose this to have some comparison for policy 1.\n",
    "        **dict(\n",
    "            get_do_nothing_dict(),\n",
    "            **{\"3_RfR 0\": 1}\n",
    "        )\n",
    "    ),\n",
    "    Policy(\n",
    "        \"policy 3\",\n",
    "        # Only hightening dikes in ring 4 by the middle height of 0.5m (5 decimeters).\n",
    "        **dict(\n",
    "            get_do_nothing_dict(),\n",
    "            **{\"A.4_DikeIncrease 0\": 5}\n",
    "        )\n",
    "    ),\n",
    "    Policy(\n",
    "        \"policy 4\",\n",
    "        # Only hightening dikes in ring 4 by maximum height of 1m for comparison with policy 3.\n",
    "        **dict(\n",
    "            get_do_nothing_dict(),\n",
    "            **{\"A.4_DikeIncrease 0\": 10}\n",
    "        )\n",
    "    ),\n",
    "    Policy(\n",
    "        \"policy 5\",\n",
    "        # policy 1 + policy 3 - trade-off between costs of projects and max safety. Note that making more RfR \n",
    "        # (outside of ring 4 though, as they don't want to give up land) \n",
    "        # and hightening the dikes in ring 4 by more than 0.5m would increase ring 4 safety even further, but\n",
    "        # is unrealistic with limiteed budget and stakeholders' interests.\n",
    "        **dict(\n",
    "            get_do_nothing_dict(),\n",
    "            **{\"0_RfR 0\": 1, \"A.4_DikeIncrease 0\": 5}\n",
    "        )\n",
    "    ),\n",
    "]"
   ]
  },
  {
   "cell_type": "code",
   "execution_count": 5,
   "id": "c4528b1d-1360-40d5-8ac8-8bbd336ee25d",
   "metadata": {},
   "outputs": [],
   "source": [
    "# pass the policies list to EMA workbench experiment runs\n",
    "#n_scenarios = 2\n",
    "#with MultiprocessingEvaluator(dike_model) as evaluator:\n",
    "#    results = evaluator.perform_experiments(n_scenarios, policies)"
   ]
  },
  {
   "cell_type": "code",
   "execution_count": 6,
   "id": "18ca2842-032a-4852-a4f2-759556eab51d",
   "metadata": {},
   "outputs": [],
   "source": [
    "#results"
   ]
  },
  {
   "cell_type": "markdown",
   "id": "f56a5862-5b03-4e7e-9460-3c74035dfd89",
   "metadata": {},
   "source": [
    "## Global sensitvity analysis with SOBOL\n",
    "https://emaworkbench.readthedocs.io/en/latest/indepth_tutorial/open-exploration.html#More-advanced-sampling-techniques\n",
    "https://emaworkbench.readthedocs.io/en/latest/examples/sample_sobol_lake_model.html\n",
    "\n",
    "Global sensitivity shows the effect of variance in the input space. Sobol is used since it is easily available in the EMA workbench. A downside is that it is computationaly expensive compared to other methods. This was still managable so it was not a big drawback. \n",
    "\n",
    "\n",
    "\n"
   ]
  },
  {
   "cell_type": "code",
   "execution_count": 7,
   "id": "b53a9e66-3528-4828-8f9a-e957c4e47a61",
   "metadata": {},
   "outputs": [],
   "source": [
    "n_scenarios = 2"
   ]
  },
  {
   "cell_type": "code",
   "execution_count": 8,
   "id": "ffd330d0-a10f-4496-aabc-a895158ccd92",
   "metadata": {},
   "outputs": [
    {
     "name": "stderr",
     "output_type": "stream",
     "text": [
      "[MainProcess/INFO] pool started with 4 workers\n",
      "[MainProcess/INFO] performing 80 scenarios * 5 policies * 1 model(s) = 400 experiments\n",
      "100%|████████████████████████████████████████| 400/400 [02:59<00:00,  2.23it/s]\n",
      "[MainProcess/INFO] experiments finished\n",
      "[MainProcess/INFO] terminating pool\n"
     ]
    }
   ],
   "source": [
    "\n",
    "with MultiprocessingEvaluator(dike_model) as evaluator:\n",
    "    results = evaluator.perform_experiments(n_scenarios, policies, uncertainty_sampling=Samplers.SOBOL)"
   ]
  },
  {
   "cell_type": "code",
   "execution_count": 11,
   "id": "c4679612-f77d-4f2b-a114-52a586707a8c",
   "metadata": {},
   "outputs": [],
   "source": [
    "#results"
   ]
  },
  {
   "cell_type": "code",
   "execution_count": 13,
   "id": "817b324a-cfb4-464c-ae6f-63abd5946594",
   "metadata": {},
   "outputs": [],
   "source": [
    "\n",
    "experiments, outcomes = results\n",
    "\n",
    "\n",
    "\n",
    "problem = get_SALib_problem(dike_model.uncertainties)\n",
    "Si = sobol.analyze(problem, outcomes[\"Expected Number of Deaths\"], calc_second_order=True, print_to_console=False)"
   ]
  },
  {
   "cell_type": "code",
   "execution_count": 14,
   "id": "0f3990ec-22d0-4141-bbe3-863c2ccc9e21",
   "metadata": {},
   "outputs": [
    {
     "data": {
      "image/png": "[encoded data removed]",
      "text/plain": [
       "<Figure size 800x600 with 1 Axes>"
      ]
     },
     "metadata": {},
     "output_type": "display_data"
    }
   ],
   "source": [
    "scores_filtered = {k: Si[k] for k in [\"ST\", \"ST_conf\", \"S1\", \"S1_conf\"]}\n",
    "Si_df = pd.DataFrame(scores_filtered, index=problem[\"names\"])\n",
    "\n",
    "sns.set_style(\"white\")\n",
    "fig, ax = plt.subplots(1)\n",
    "\n",
    "indices = Si_df[[\"S1\", \"ST\"]]\n",
    "err = Si_df[[\"S1_conf\", \"ST_conf\"]]\n",
    "\n",
    "indices.plot.bar(yerr=err.values.T, ax=ax)\n",
    "fig.set_size_inches(8, 6)\n",
    "fig.subplots_adjust(bottom=0.3)\n",
    "plt.show()"
   ]
  },
  {
   "cell_type": "markdown",
   "id": "af71bd60-574d-4db8-9638-99f496b63139",
   "metadata": {},
   "source": [
    "## The bars show that the outcome is sensitive to the uncertainty.... \n",
    "The bigger the bar the bigger the difference in the specified outcome is"
   ]
  }
 ],
 "metadata": {
  "kernelspec": {
   "display_name": "Python 3 (ipykernel)",
   "language": "python",
   "name": "python3"
  },
  "language_info": {
   "codemirror_mode": {
    "name": "ipython",
    "version": 3
   },
   "file_extension": ".py",
   "mimetype": "text/x-python",
   "name": "python",
   "nbconvert_exporter": "python",
   "pygments_lexer": "ipython3",
   "version": "3.9.13"
  }
 },
 "nbformat": 4,
 "nbformat_minor": 5
}
